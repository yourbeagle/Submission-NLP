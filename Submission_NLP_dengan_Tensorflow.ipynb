{
  "nbformat": 4,
  "nbformat_minor": 0,
  "metadata": {
    "colab": {
      "name": "Submission NLP dengan Tensorflow.ipynb",
      "provenance": [],
      "collapsed_sections": []
    },
    "kernelspec": {
      "name": "python3",
      "display_name": "Python 3"
    },
    "language_info": {
      "name": "python"
    },
    "accelerator": "GPU",
    "gpuClass": "standard"
  },
  "cells": [
    {
      "cell_type": "markdown",
      "source": [
        "**Nama : Wahyu Bagus Wicaksono**\n",
        "\n",
        "**Grup : M07**"
      ],
      "metadata": {
        "id": "h6RQ42CKwcXl"
      }
    },
    {
      "cell_type": "markdown",
      "source": [
        "Menginstall Library untuk membersihkan text dari simbol\""
      ],
      "metadata": {
        "id": "B33s1OItwnUp"
      }
    },
    {
      "cell_type": "code",
      "source": [
        "import nltk\n",
        "import re\n",
        "nltk.download('stopwords')\n",
        "nltk.download('wordnet')\n",
        "\n",
        "from nltk.corpus import stopwords\n",
        "from nltk.stem import LancasterStemmer\n",
        "from nltk.stem import WordNetLemmatizer"
      ],
      "metadata": {
        "colab": {
          "base_uri": "https://localhost:8080/"
        },
        "id": "JWiDYjgvsntW",
        "outputId": "95643319-6cb3-445f-ea16-126ae6f135da"
      },
      "execution_count": 45,
      "outputs": [
        {
          "output_type": "stream",
          "name": "stderr",
          "text": [
            "[nltk_data] Downloading package stopwords to /root/nltk_data...\n",
            "[nltk_data]   Package stopwords is already up-to-date!\n",
            "[nltk_data] Downloading package wordnet to /root/nltk_data...\n",
            "[nltk_data]   Package wordnet is already up-to-date!\n"
          ]
        }
      ]
    },
    {
      "cell_type": "code",
      "source": [
        "sw = stopwords.words('english')\n",
        "stemmer = LancasterStemmer()\n",
        "lemmatizer = WordNetLemmatizer()\n",
        "\n",
        "replace_puncts = {'`': \"'\", '′': \"'\", '“':'\"', '”': '\"', '‘': \"'\"}\n",
        "\n",
        "strip_chars = [',', '.', '\"', ':', ')', '(', '-', '|', ';', \"'\", '[', ']', '>', '=', '+', '\\\\', '•',  '~', '@', \n",
        " '·', '_', '{', '}', '©', '^', '®', '`',  '<', '→', '°', '€', '™', '›',  '♥', '←', '×', '§', '″', '′', 'Â', '█', '½', 'à', '…', \n",
        " '“', '★', '”', '–', '●', 'â', '►', '−', '¢', '²', '¬', '░', '¶', '↑', '±', '¿', '▾', '═', '¦', '║', '―', '¥', '▓', '—', '‹', '─', \n",
        " '▒', '：', '¼', '⊕', '▼', '▪', '†', '■', '’', '▀', '¨', '▄', '♫', '☆', 'é', '¯', '♦', '¤', '▲', 'è', '¸', '¾', 'Ã', '⋅', '‘', '∞', \n",
        " '∙', '）', '↓', '、', '│', '（', '»', '，', '♪', '╩', '╚', '³', '・', '╦', '╣', '╔', '╗', '▬', '❤', 'ï', 'Ø', '¹', '≤', '‡', '√', ]\n",
        "\n",
        "puncts = ['!', '?', '$', '&', '/', '%', '#', '*','£']"
      ],
      "metadata": {
        "id": "G-mJckaOsxaV"
      },
      "execution_count": 46,
      "outputs": []
    },
    {
      "cell_type": "markdown",
      "source": [
        "membuat fungsi untuk mereplace dan membersihkan text dari simbol\""
      ],
      "metadata": {
        "id": "PVlffob8wt5C"
      }
    },
    {
      "cell_type": "code",
      "source": [
        "def clean_text(x):\n",
        "    x = str(x)\n",
        "    x = x.lower()\n",
        "    x = re.sub(r\"(https?:\\/\\/(?:www\\.|(?!www))[a-zA-Z0-9][a-zA-Z0-9-]+[a-zA-Z0-9]\\.[^\\s]{2,}|www\\.[a-zA-Z0-9][a-zA-Z0-9-]+[a-zA-Z0-9]\\.[^\\s]{2,}|https?:\\/\\/(?:www\\.|(?!www))[a-zA-Z0-9]\\.[^\\s]{2,}|www\\.[a-zA-Z0-9]\\.[^\\s]{2,})\", \"url\", x)\n",
        "    for k, v in replace_puncts.items():\n",
        "        x = x.replace(k, f' {v} ')\n",
        "        \n",
        "    for punct in strip_chars:\n",
        "        x = x.replace(punct, ' ') \n",
        "    \n",
        "    for punct in puncts:\n",
        "        x = x.replace(punct, f' {punct} ')\n",
        "        \n",
        "    x = x.replace(\" '\", \" \")\n",
        "    x = x.replace(\"' \", \" \")\n",
        "    x = x.strip()\n",
        "    return x\n",
        "\n",
        "def stopwords1(text):\n",
        "    '''a function for removing the stopword'''\n",
        "    # removing the stop words and lowercasing the selected words\n",
        "    text = [word.lower() for word in text.split() if word.lower() not in sw]\n",
        "    # joining the list of words with space separator\n",
        "    return \" \".join(text)\n",
        "\n",
        "def stemming(text):    \n",
        "    '''a function which stems each word in the given text'''\n",
        "    text = [stemmer.stem(word) for word in text.split()]\n",
        "    return \" \".join(text) \n",
        "\n",
        "def lemm(text):    \n",
        "    text = [lemmatizer.lemmatize(word) for word in text.split()]\n",
        "    return \" \".join(text)\n",
        "\n",
        "def clean_length(text):\n",
        "    text = [word for word in text.split() if len(word) > 2]\n",
        "    return \" \".join(text)\n",
        "\n",
        "def text_processing(X):\n",
        "    X=X.apply(stopwords1)\n",
        "    X=X.apply(clean_text)\n",
        "    X=X.apply(stemming)\n",
        "    X=X.apply(lemm)\n",
        "    X=X.apply(clean_length)\n",
        "    return X"
      ],
      "metadata": {
        "id": "8LilEryUs7ow"
      },
      "execution_count": 47,
      "outputs": []
    },
    {
      "cell_type": "markdown",
      "source": [
        "Membaca dataset dan menerapkan proses one-hot-encoding dan membuat dataframe baru.\n",
        "\n",
        "Dataset dapat didapatkan di : https://www.kaggle.com/datasets/atulanandjha/imdb-50k-movie-reviews-test-your-bert?select=test.csv"
      ],
      "metadata": {
        "id": "Gr8yRujVwzRI"
      }
    },
    {
      "cell_type": "code",
      "source": [
        "import pandas as pd\n",
        "df = pd.read_csv(\"imdb.csv\")\n",
        "\n",
        "sentiment = pd.get_dummies(df.sentiment)\n",
        "df_baru = pd.concat([df,sentiment], axis=1)\n",
        "df_baru = df_baru.drop(columns=\"sentiment\")\n",
        "df_baru['text'][1000]"
      ],
      "metadata": {
        "colab": {
          "base_uri": "https://localhost:8080/",
          "height": 127
        },
        "id": "64JWhIBrs_A7",
        "outputId": "aea2fb6e-1373-46be-8b3c-f11156c4973d"
      },
      "execution_count": 48,
      "outputs": [
        {
          "output_type": "execute_result",
          "data": {
            "text/plain": [
              "'Two actors play rival gangsters in three films, the final of which is a sci-fi film, that nods strangely to William S. Burroughs, Philip K. Dick, and anime all at once. The robots are actually called \"replicants\", a reference to Dicks Blade Runner(several visual allusions to the film can be found as well) and the bad guy is a psychotic gay mayor obsessed with limiting procreation through use of a compulsory drug for \"heterosexual love is fleeting, and homosexual love is eternal\"....martial arts fights ensue, a first for the dead or alive films. The hilarious climax involves the two leads morphing into a winged robot with a gigantic phallus for a head, who personifies \"destruction\", which has been the path of both characters thus far, their individual minds and later literal heads functioning as something like testicles. The film ends with the mayor f*&%ing his free jazz playing boy lackey as the robot apparently tears down a wall around them, the last words of the mayor \"Oh f*&%\", followed by a quick fade to black. Part of me felt cheated, part of me confused, but mostly I was just laughing. A lot of the film is quite boring though, the best scenes bookend the film while the rest is far too slow. Takashi Miike has always mined the sexual motifs beneath male violence in action films, and this film with the exception of \"Gozu\", reinforces this theme more than any other. Sex and violence are two pretty basic themes, but like Cronerberg(who the jazz interludes may be a homage to ala Naked Lunch)Miike is able to show where the two connect, to hilarious an oddly cohesive effect.'"
            ],
            "application/vnd.google.colaboratory.intrinsic+json": {
              "type": "string"
            }
          },
          "metadata": {},
          "execution_count": 48
        }
      ]
    },
    {
      "cell_type": "markdown",
      "source": [
        "Memasukkan value text kedalam variabel review dan value neg, pos kedalam variabel label"
      ],
      "metadata": {
        "id": "SyTI3u0AxAzc"
      }
    },
    {
      "cell_type": "code",
      "source": [
        "review = df_baru['text'].values\n",
        "label = df_baru[['neg','pos']].values"
      ],
      "metadata": {
        "id": "S08rBa65gmh3"
      },
      "execution_count": 49,
      "outputs": []
    },
    {
      "cell_type": "markdown",
      "source": [
        "Membagi dataset menjadi train set dan validation set dengan ukuran masing-masing 80% dan 20%."
      ],
      "metadata": {
        "id": "6ht26_9fxW2m"
      }
    },
    {
      "cell_type": "code",
      "source": [
        "from sklearn.model_selection import train_test_split\n",
        "review_latih, review_test, label_latih, label_test = train_test_split(review, label, test_size=0.2)"
      ],
      "metadata": {
        "id": "xfljxVnIg3AR"
      },
      "execution_count": 50,
      "outputs": []
    },
    {
      "cell_type": "markdown",
      "source": [
        "Mengubah setiap kata pada dataset ke dalam bilangan numerik dengan fungsi Tokenizer. Setelahnya, konversi setiap sampel menjadi sequence."
      ],
      "metadata": {
        "id": "HtmcCSetxZ6v"
      }
    },
    {
      "cell_type": "code",
      "source": [
        "from tensorflow.keras.preprocessing.text import Tokenizer\n",
        "from tensorflow.keras.preprocessing.sequence import pad_sequences\n",
        " \n",
        "tokenizer = Tokenizer(num_words=2000, oov_token='x')\n",
        "tokenizer.fit_on_texts(review_latih) \n",
        "tokenizer.fit_on_texts(review_test)\n",
        " \n",
        "sekuens_latih = tokenizer.texts_to_sequences(review_latih)\n",
        "sekuens_test = tokenizer.texts_to_sequences(review_test)\n",
        " \n",
        "padded_latih = pad_sequences(sekuens_latih) \n",
        "padded_test = pad_sequences(sekuens_test)"
      ],
      "metadata": {
        "id": "cJ9ccStUhPNw"
      },
      "execution_count": 51,
      "outputs": []
    },
    {
      "cell_type": "markdown",
      "source": [
        "Membangun model Sequential dengan Embedding dan LSTM."
      ],
      "metadata": {
        "id": "JbFjitNdxeLg"
      }
    },
    {
      "cell_type": "code",
      "source": [
        "import tensorflow as tf\n",
        "model = tf.keras.Sequential([\n",
        "    tf.keras.layers.Embedding(input_dim=2000, output_dim=128),\n",
        "    tf.keras.layers.LSTM(64),\n",
        "    tf.keras.layers.Dropout(0.5),\n",
        "    tf.keras.layers.Dense(256, activation='relu'),\n",
        "    tf.keras.layers.Dropout(0.2),\n",
        "    tf.keras.layers.Dense(128, activation='relu'),\n",
        "    tf.keras.layers.Dense(64, activation='relu'),\n",
        "    tf.keras.layers.Dense(2, activation='softmax')\n",
        "])\n",
        "model.compile(loss='categorical_crossentropy',optimizer='adam',metrics=['accuracy'])"
      ],
      "metadata": {
        "id": "j8e7H7vBhZ57"
      },
      "execution_count": 52,
      "outputs": []
    },
    {
      "cell_type": "markdown",
      "source": [
        "Membuat callbacks, jika akurasi mencapai 95% maka train model akan berhenti"
      ],
      "metadata": {
        "id": "170YAUSkxfrC"
      }
    },
    {
      "cell_type": "code",
      "source": [
        "# Berhenti ketika akurasi sudah 95%\n",
        "class myCallback(tf.keras.callbacks.Callback):\n",
        "  def on_epoch_end(self, epoch, logs={}):\n",
        "    if(logs.get('accuracy')> 0.95):\n",
        "      print(\"Akurasi sudah mencapai 95%, Train berhenti\")\n",
        "      self.model.stop_training = True\n",
        "\n",
        "callbacks = myCallback()"
      ],
      "metadata": {
        "id": "o6_5Un6yh45f"
      },
      "execution_count": 56,
      "outputs": []
    },
    {
      "cell_type": "markdown",
      "source": [
        "Latih model dengan model.fit dan menyimpannya ke dalam variabel history guna memudahkan proses plotting."
      ],
      "metadata": {
        "id": "g9CGJ_OKxshJ"
      }
    },
    {
      "cell_type": "code",
      "source": [
        "num_epochs = 30\n",
        "history = model.fit(padded_latih, \n",
        "                    label_latih, \n",
        "                    epochs=num_epochs, \n",
        "                    validation_data=(padded_test, label_test), \n",
        "                    verbose=2, \n",
        "                    callbacks=[callbacks])"
      ],
      "metadata": {
        "colab": {
          "base_uri": "https://localhost:8080/"
        },
        "id": "BdJ7L9UOiIRG",
        "outputId": "5960e41b-ebec-479f-f2d2-da34de253498"
      },
      "execution_count": 57,
      "outputs": [
        {
          "output_type": "stream",
          "name": "stdout",
          "text": [
            "Epoch 1/30\n",
            "625/625 - 46s - loss: 0.2494 - accuracy: 0.9008 - val_loss: 0.3624 - val_accuracy: 0.8700 - 46s/epoch - 74ms/step\n",
            "Epoch 2/30\n",
            "625/625 - 46s - loss: 0.2246 - accuracy: 0.9105 - val_loss: 0.3613 - val_accuracy: 0.8526 - 46s/epoch - 73ms/step\n",
            "Epoch 3/30\n",
            "625/625 - 47s - loss: 0.2879 - accuracy: 0.8753 - val_loss: 0.5602 - val_accuracy: 0.7066 - 47s/epoch - 75ms/step\n",
            "Epoch 4/30\n",
            "625/625 - 46s - loss: 0.3570 - accuracy: 0.8443 - val_loss: 0.3964 - val_accuracy: 0.8462 - 46s/epoch - 74ms/step\n",
            "Epoch 5/30\n",
            "625/625 - 46s - loss: 0.2701 - accuracy: 0.8932 - val_loss: 0.3971 - val_accuracy: 0.8634 - 46s/epoch - 73ms/step\n",
            "Epoch 6/30\n",
            "625/625 - 47s - loss: 0.1984 - accuracy: 0.9250 - val_loss: 0.3552 - val_accuracy: 0.8772 - 47s/epoch - 75ms/step\n",
            "Epoch 7/30\n",
            "625/625 - 47s - loss: 0.1674 - accuracy: 0.9372 - val_loss: 0.3546 - val_accuracy: 0.8744 - 47s/epoch - 74ms/step\n",
            "Epoch 8/30\n",
            "625/625 - 47s - loss: 0.1744 - accuracy: 0.9354 - val_loss: 0.3680 - val_accuracy: 0.8694 - 47s/epoch - 75ms/step\n",
            "Epoch 9/30\n",
            "625/625 - 46s - loss: 0.1398 - accuracy: 0.9482 - val_loss: 0.3874 - val_accuracy: 0.8430 - 46s/epoch - 74ms/step\n",
            "Epoch 10/30\n",
            "Akurasi sudah mencapai 90%, Train berhenti\n",
            "625/625 - 46s - loss: 0.1288 - accuracy: 0.9517 - val_loss: 0.4137 - val_accuracy: 0.8642 - 46s/epoch - 74ms/step\n"
          ]
        }
      ]
    },
    {
      "cell_type": "markdown",
      "source": [
        "Scatter plot Training dan Validation Accuracy"
      ],
      "metadata": {
        "id": "hjcfA4lJxyj4"
      }
    },
    {
      "cell_type": "code",
      "source": [
        "import matplotlib.pyplot as plt\n",
        "\n",
        "acc = history.history['accuracy']\n",
        "val_acc = history.history['val_accuracy']\n",
        "loss = history.history['loss']\n",
        "val_loss = history.history['val_loss']\n",
        "epochs = range(len(acc))\n",
        "\n",
        "plt.plot(epochs, acc, 'r', label='Train Accuracy ')                \n",
        "plt.plot(epochs, val_acc, 'b', label='Valid Accuracy')\n",
        "plt.title('Train and Valid Accuracy')\n",
        "plt.legend(loc=0)\n",
        "plt.figure()                                                                      \n",
        "plt.show()\n",
        "\n",
        "plt.plot(epochs, loss, 'r', label='Train Loss ')                \n",
        "plt.plot(epochs, val_loss, 'b', label='Valid Loss')\n",
        "plt.title('Train and Valid Loss')\n",
        "plt.legend(loc=0)\n",
        "plt.figure()                                                                      \n",
        "plt.show()"
      ],
      "metadata": {
        "colab": {
          "base_uri": "https://localhost:8080/",
          "height": 582
        },
        "id": "bHA3BC98jwAe",
        "outputId": "83c93a0c-1f7e-444d-e55c-f3ab096485b0"
      },
      "execution_count": 58,
      "outputs": [
        {
          "output_type": "display_data",
          "data": {
            "text/plain": [
              "<Figure size 432x288 with 1 Axes>"
            ],
            "image/png": "[encoded data removed]"
          },
          "metadata": {
            "needs_background": "light"
          }
        },
        {
          "output_type": "display_data",
          "data": {
            "text/plain": [
              "<Figure size 432x288 with 0 Axes>"
            ]
          },
          "metadata": {}
        },
        {
          "output_type": "display_data",
          "data": {
            "text/plain": [
              "<Figure size 432x288 with 1 Axes>"
            ],
            "image/png": "[encoded data removed]"
          },
          "metadata": {
            "needs_background": "light"
          }
        },
        {
          "output_type": "display_data",
          "data": {
            "text/plain": [
              "<Figure size 432x288 with 0 Axes>"
            ]
          },
          "metadata": {}
        }
      ]
    }
  ]
}